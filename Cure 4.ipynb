{
 "cells": [
  {
   "cell_type": "code",
   "execution_count": 38,
   "id": "e0e1c5e9",
   "metadata": {},
   "outputs": [
    {
     "data": {
      "text/plain": [
       "(    Average Household Heating  Fuel Price(in cents per litre)  \\\n",
       " 1                                               115.5           \n",
       " 31                                              128.7           \n",
       " 92                                              114.9           \n",
       " 73                                              131.3           \n",
       " 23                                              122.8           \n",
       " ..                                                ...           \n",
       " 39                                              111.6           \n",
       " 42                                              101.8           \n",
       " 40                                              105.2           \n",
       " 0                                               124.3           \n",
       " 38                                              106.5           \n",
       " \n",
       "     Average Diesel Price(in cents per litre)  \\\n",
       " 1                                      131.4   \n",
       " 31                                     137.6   \n",
       " 92                                     103.5   \n",
       " 73                                     123.6   \n",
       " 23                                     138.6   \n",
       " ..                                       ...   \n",
       " 39                                     117.7   \n",
       " 42                                     116.4   \n",
       " 40                                     118.7   \n",
       " 0                                      136.0   \n",
       " 38                                     116.7   \n",
       " \n",
       "     Average Gasoline Price(in cents per litre)  \n",
       " 1                                        145.9  \n",
       " 31                                       150.3  \n",
       " 92                                       107.3  \n",
       " 73                                       116.4  \n",
       " 23                                       136.5  \n",
       " ..                                         ...  \n",
       " 39                                       138.8  \n",
       " 42                                       131.8  \n",
       " 40                                       134.0  \n",
       " 0                                        139.9  \n",
       " 38                                       133.9  \n",
       " \n",
       " [76 rows x 3 columns],\n",
       "     Average Household Heating  Fuel Price(in cents per litre)  \\\n",
       " 16                                              128.6           \n",
       " 33                                              136.6           \n",
       " 20                                              123.8           \n",
       " 51                                              138.4           \n",
       " 24                                              120.3           \n",
       " 47                                              118.3           \n",
       " 43                                              102.0           \n",
       " 18                                              120.3           \n",
       " 41                                              104.1           \n",
       " 17                                              118.7           \n",
       " 72                                              132.7           \n",
       " 19                                              118.2           \n",
       " 15                                              127.0           \n",
       " 65                                              125.7           \n",
       " 94                                              111.8           \n",
       " 62                                              117.4           \n",
       " 75                                              127.8           \n",
       " 6                                                95.5           \n",
       " 8                                                94.4           \n",
       " 89                                              117.0           \n",
       " 57                                              109.6           \n",
       " 74                                              133.3           \n",
       " 46                                              119.9           \n",
       " 37                                              109.3           \n",
       " 90                                              116.1           \n",
       " 2                                               102.6           \n",
       " \n",
       "     Average Diesel Price(in cents per litre)  \\\n",
       " 16                                     142.7   \n",
       " 33                                     145.6   \n",
       " 20                                     135.3   \n",
       " 51                                     124.9   \n",
       " 24                                     133.5   \n",
       " 47                                     129.0   \n",
       " 43                                     118.9   \n",
       " 18                                     135.2   \n",
       " 41                                     117.9   \n",
       " 17                                     136.2   \n",
       " 72                                     120.3   \n",
       " 19                                     133.4   \n",
       " 15                                     139.0   \n",
       " 65                                     116.0   \n",
       " 94                                     101.9   \n",
       " 62                                     104.4   \n",
       " 75                                     123.2   \n",
       " 6                                      110.6   \n",
       " 8                                      108.3   \n",
       " 89                                     107.0   \n",
       " 57                                      97.9   \n",
       " 74                                     125.9   \n",
       " 46                                     129.6   \n",
       " 37                                     116.7   \n",
       " 90                                     106.9   \n",
       " 2                                      120.4   \n",
       " \n",
       "     Average Gasoline Price(in cents per litre)  \n",
       " 16                                       169.0  \n",
       " 33                                       155.2  \n",
       " 20                                       153.6  \n",
       " 51                                       114.6  \n",
       " 24                                       141.7  \n",
       " 47                                       137.2  \n",
       " 43                                       137.7  \n",
       " 18                                       151.5  \n",
       " 41                                       130.1  \n",
       " 17                                       148.4  \n",
       " 72                                       116.9  \n",
       " 19                                       148.2  \n",
       " 15                                       167.3  \n",
       " 65                                       115.8  \n",
       " 94                                       112.5  \n",
       " 62                                       103.6  \n",
       " 75                                       124.5  \n",
       " 6                                        131.4  \n",
       " 8                                        125.9  \n",
       " 89                                       107.6  \n",
       " 57                                       104.3  \n",
       " 74                                       116.4  \n",
       " 46                                       141.3  \n",
       " 37                                       125.6  \n",
       " 90                                       116.0  \n",
       " 2                                        121.4  ,\n",
       " 1     Vancouver\n",
       " 31    Vancouver\n",
       " 92      Toronto\n",
       " 73      Toronto\n",
       " 23    Vancouver\n",
       "         ...    \n",
       " 39    Vancouver\n",
       " 42    Vancouver\n",
       " 40    Vancouver\n",
       " 0     Vancouver\n",
       " 38    Vancouver\n",
       " Name: City, Length: 76, dtype: object,\n",
       " 16    Vancouver\n",
       " 33    Vancouver\n",
       " 20    Vancouver\n",
       " 51      Toronto\n",
       " 24    Vancouver\n",
       " 47    Vancouver\n",
       " 43    Vancouver\n",
       " 18    Vancouver\n",
       " 41    Vancouver\n",
       " 17    Vancouver\n",
       " 72      Toronto\n",
       " 19    Vancouver\n",
       " 15    Vancouver\n",
       " 65      Toronto\n",
       " 94      Toronto\n",
       " 62      Toronto\n",
       " 75      Toronto\n",
       " 6     Vancouver\n",
       " 8     Vancouver\n",
       " 89      Toronto\n",
       " 57      Toronto\n",
       " 74      Toronto\n",
       " 46    Vancouver\n",
       " 37    Vancouver\n",
       " 90      Toronto\n",
       " 2     Vancouver\n",
       " Name: City, dtype: object)"
      ]
     },
     "execution_count": 38,
     "metadata": {},
     "output_type": "execute_result"
    }
   ],
   "source": [
    "import numpy as np\n",
    "import pandas as pd\n",
    "from pandas import DataFrame\n",
    "\n",
    "df = DataFrame()\n",
    "df = pd.read_excel(r\"C:\\Users\\Shreosi\\Downloads\\curedel3.xlsx\")\n",
    "df;\n",
    "\n",
    "dfX = df.drop (columns =['City', 'Year', 'Month'])\n",
    "sy = df.City\n",
    "\n",
    "from sklearn.model_selection import train_test_split\n",
    "dfX_train, dfX_test, sy_train, sy_test = train_test_split(dfX,sy)\n",
    "\n",
    "dfX_train, dfX_test, sy_train, sy_test"
   ]
  },
  {
   "cell_type": "code",
   "execution_count": 58,
   "id": "8f4700ea",
   "metadata": {},
   "outputs": [],
   "source": [
    "from sklearn import preprocessing\n",
    "le = preprocessing.LabelEncoder()\n",
    "le;"
   ]
  },
  {
   "cell_type": "code",
   "execution_count": 59,
   "id": "c3f504e5",
   "metadata": {},
   "outputs": [
    {
     "data": {
      "text/plain": [
       "array(['Toronto', 'Vancouver'], dtype=object)"
      ]
     },
     "execution_count": 59,
     "metadata": {},
     "output_type": "execute_result"
    }
   ],
   "source": [
    "le = le.fit(sy_train)\n",
    "le.classes_"
   ]
  },
  {
   "cell_type": "code",
   "execution_count": 60,
   "id": "ffed3330",
   "metadata": {},
   "outputs": [
    {
     "data": {
      "text/plain": [
       "(1     Vancouver\n",
       " 31    Vancouver\n",
       " 92      Toronto\n",
       " 73      Toronto\n",
       " 23    Vancouver\n",
       "         ...    \n",
       " 39    Vancouver\n",
       " 42    Vancouver\n",
       " 40    Vancouver\n",
       " 0     Vancouver\n",
       " 38    Vancouver\n",
       " Name: City, Length: 76, dtype: object,\n",
       " array([1, 1, 0, 0, 1, 0, 0, 1, 1, 1, 0, 0, 0, 1, 1, 0, 0, 0, 1, 1, 0, 1,\n",
       "        0, 1, 1, 1, 1, 1, 0, 0, 0, 1, 0, 0, 0, 0, 1, 0, 1, 0, 0, 0, 0, 0,\n",
       "        1, 0, 0, 0, 1, 1, 0, 0, 0, 1, 0, 0, 0, 1, 1, 1, 0, 0, 0, 0, 1, 0,\n",
       "        0, 1, 1, 0, 1, 1, 1, 1, 1, 1]))"
      ]
     },
     "execution_count": 60,
     "metadata": {},
     "output_type": "execute_result"
    }
   ],
   "source": [
    "y_train = le.transform(sy_train)\n",
    "sy_train, y_train"
   ]
  },
  {
   "cell_type": "code",
   "execution_count": 61,
   "id": "4bbf2c6c",
   "metadata": {},
   "outputs": [
    {
     "data": {
      "text/plain": [
       "array([[115.5, 131.4, 145.9],\n",
       "       [128.7, 137.6, 150.3],\n",
       "       [114.9, 103.5, 107.3],\n",
       "       [131.3, 123.6, 116.4],\n",
       "       [122.8, 138.6, 136.5],\n",
       "       [132.3, 123.4, 123.6],\n",
       "       [133.9, 116.6, 118.9],\n",
       "       [123.3, 130.9, 134.4],\n",
       "       [ 93.1, 106.8, 127.2],\n",
       "       [125.2, 132.2, 138.5],\n",
       "       [123.8, 119.6, 121. ],\n",
       "       [133.9, 129.3, 135.6],\n",
       "       [124. , 116.4, 105.5],\n",
       "       [ 96.3, 109.3, 122.3],\n",
       "       [ 84.1, 100.1, 113. ],\n",
       "       [131.4, 123.4, 133.7],\n",
       "       [118.8, 108.6, 112.8],\n",
       "       [133.2, 128.2, 137.3],\n",
       "       [119.7, 127.3, 132. ],\n",
       "       [133.5, 145.4, 159.9],\n",
       "       [ 96.4,  91.7,  89.8],\n",
       "       [130.1, 140.3, 155.7],\n",
       "       [107.3,  98.3,  99.3],\n",
       "       [125.4, 133.6, 149.6],\n",
       "       [104.7, 116.1, 123.6],\n",
       "       [102.3, 117.8, 126.1],\n",
       "       [134.1, 141.5, 151.9],\n",
       "       [110.7, 118.9, 127.9],\n",
       "       [130.5, 122.2, 126.1],\n",
       "       [111.9,  93.2,  79.1],\n",
       "       [115.4, 104.9, 112. ],\n",
       "       [133.5, 148.5, 140.5],\n",
       "       [119.7, 115.8, 122.2],\n",
       "       [129.3, 114.4, 125.3],\n",
       "       [131.4, 115.9, 111. ],\n",
       "       [136. , 122.4, 127.7],\n",
       "       [132.3, 140.6, 155.1],\n",
       "       [101.5,  83.6,  91.2],\n",
       "       [137.4, 143. , 141.9],\n",
       "       [109.4,  95.2, 100.7],\n",
       "       [121.2, 110.9, 102.4],\n",
       "       [108.7,  95.1, 101.8],\n",
       "       [135. , 121.5, 126.7],\n",
       "       [112.9, 107.2, 114.9],\n",
       "       [114.2, 125.6, 136.9],\n",
       "       [111.2,  98.2, 103.9],\n",
       "       [131.9, 127.5, 133.6],\n",
       "       [134.2, 125.5, 111.7],\n",
       "       [ 83.6, 100.4, 110.7],\n",
       "       [120. , 134.3, 144.5],\n",
       "       [112.7, 100.6, 109.5],\n",
       "       [132.8, 129.9, 134.6],\n",
       "       [118.1, 110.3, 107.8],\n",
       "       [ 95. , 106.4,  96.7],\n",
       "       [132.6, 128. , 124. ],\n",
       "       [114. , 105.5, 118.2],\n",
       "       [ 99.8,  95.3,  95.7],\n",
       "       [ 81.2,  98.2, 105.9],\n",
       "       [127.3, 142.5, 158.2],\n",
       "       [ 84.7,  99.9, 112.9],\n",
       "       [133.8, 126.5, 129.3],\n",
       "       [116.4, 108.9, 102.1],\n",
       "       [ 97.1,  89.9,  92.5],\n",
       "       [129. , 114.1, 118.5],\n",
       "       [ 97.1, 110.7, 130. ],\n",
       "       [106.7,  91.2,  99.9],\n",
       "       [126.7, 103.4,  86.1],\n",
       "       [136.7, 147.4, 154.3],\n",
       "       [124.5, 135. , 151.4],\n",
       "       [126.3, 117.3, 116.7],\n",
       "       [112. , 124.3, 137.4],\n",
       "       [111.6, 117.7, 138.8],\n",
       "       [101.8, 116.4, 131.8],\n",
       "       [105.2, 118.7, 134. ],\n",
       "       [124.3, 136. , 139.9],\n",
       "       [106.5, 116.7, 133.9]])"
      ]
     },
     "execution_count": 61,
     "metadata": {},
     "output_type": "execute_result"
    }
   ],
   "source": [
    "dfX_train.to_numpy()"
   ]
  },
  {
   "cell_type": "code",
   "execution_count": 62,
   "id": "59a378f2",
   "metadata": {},
   "outputs": [
    {
     "data": {
      "text/plain": [
       "array([[0.61032028, 0.73651772, 0.82673267],\n",
       "       [0.84519573, 0.83204931, 0.88118812],\n",
       "       [0.59964413, 0.30662558, 0.3490099 ],\n",
       "       [0.89145907, 0.61633282, 0.46163366],\n",
       "       [0.74021352, 0.84745763, 0.71039604],\n",
       "       [0.90925267, 0.61325116, 0.55074257],\n",
       "       [0.93772242, 0.50847458, 0.49257426],\n",
       "       [0.74911032, 0.72881356, 0.68440594],\n",
       "       [0.21174377, 0.35747304, 0.59529703],\n",
       "       [0.78291815, 0.74884438, 0.73514851],\n",
       "       [0.75800712, 0.55469954, 0.51856436],\n",
       "       [0.93772242, 0.70416025, 0.69925743],\n",
       "       [0.76156584, 0.50539291, 0.32673267],\n",
       "       [0.26868327, 0.39599384, 0.53465347],\n",
       "       [0.05160142, 0.25423729, 0.41955446],\n",
       "       [0.89323843, 0.61325116, 0.67574257],\n",
       "       [0.66903915, 0.38520801, 0.41707921],\n",
       "       [0.9252669 , 0.68721109, 0.72029703],\n",
       "       [0.68505338, 0.67334361, 0.65470297],\n",
       "       [0.93060498, 0.95223421, 1.        ],\n",
       "       [0.27046263, 0.1248074 , 0.13242574],\n",
       "       [0.87010676, 0.87365177, 0.9480198 ],\n",
       "       [0.46441281, 0.22650231, 0.25      ],\n",
       "       [0.78647687, 0.77041602, 0.87252475],\n",
       "       [0.41814947, 0.50077042, 0.55074257],\n",
       "       [0.37544484, 0.52696456, 0.58168317],\n",
       "       [0.94128114, 0.89214176, 0.9009901 ],\n",
       "       [0.52491103, 0.54391371, 0.6039604 ],\n",
       "       [0.8772242 , 0.59476117, 0.58168317],\n",
       "       [0.54626335, 0.14791988, 0.        ],\n",
       "       [0.60854093, 0.32819723, 0.40717822],\n",
       "       [0.93060498, 1.        , 0.75990099],\n",
       "       [0.68505338, 0.49614792, 0.53341584],\n",
       "       [0.85587189, 0.47457627, 0.57178218],\n",
       "       [0.89323843, 0.49768875, 0.39480198],\n",
       "       [0.97508897, 0.59784284, 0.60148515],\n",
       "       [0.90925267, 0.87827427, 0.94059406],\n",
       "       [0.36120996, 0.        , 0.14975248],\n",
       "       [1.        , 0.91525424, 0.77722772],\n",
       "       [0.50177936, 0.17873652, 0.26732673],\n",
       "       [0.71174377, 0.42064715, 0.28836634],\n",
       "       [0.48932384, 0.17719569, 0.28094059],\n",
       "       [0.95729537, 0.58397535, 0.58910891],\n",
       "       [0.56405694, 0.36363636, 0.44306931],\n",
       "       [0.58718861, 0.64714946, 0.71534653],\n",
       "       [0.53380783, 0.22496148, 0.30693069],\n",
       "       [0.90213523, 0.67642527, 0.67450495],\n",
       "       [0.9430605 , 0.64560863, 0.40346535],\n",
       "       [0.04270463, 0.25885978, 0.39108911],\n",
       "       [0.69039146, 0.78120185, 0.80940594],\n",
       "       [0.56049822, 0.26194145, 0.37623762],\n",
       "       [0.91814947, 0.71340524, 0.68688119],\n",
       "       [0.65658363, 0.41140216, 0.35519802],\n",
       "       [0.2455516 , 0.35130971, 0.21782178],\n",
       "       [0.91459075, 0.68412943, 0.55569307],\n",
       "       [0.58362989, 0.33744222, 0.48391089],\n",
       "       [0.33096085, 0.18027735, 0.20544554],\n",
       "       [0.        , 0.22496148, 0.33168317],\n",
       "       [0.8202847 , 0.90755008, 0.9789604 ],\n",
       "       [0.06227758, 0.25115562, 0.41831683],\n",
       "       [0.93594306, 0.66101695, 0.62128713],\n",
       "       [0.62633452, 0.38983051, 0.28465347],\n",
       "       [0.28291815, 0.09707242, 0.16584158],\n",
       "       [0.85053381, 0.46995378, 0.48762376],\n",
       "       [0.28291815, 0.41756549, 0.6299505 ],\n",
       "       [0.45373665, 0.11710324, 0.25742574],\n",
       "       [0.80960854, 0.30508475, 0.08663366],\n",
       "       [0.98754448, 0.98305085, 0.93069307],\n",
       "       [0.77046263, 0.79198767, 0.89480198],\n",
       "       [0.8024911 , 0.5192604 , 0.46534653],\n",
       "       [0.5480427 , 0.62711864, 0.72153465],\n",
       "       [0.54092527, 0.52542373, 0.73886139],\n",
       "       [0.36654804, 0.50539291, 0.65222772],\n",
       "       [0.42704626, 0.54083205, 0.67945545],\n",
       "       [0.76690391, 0.80739599, 0.75247525],\n",
       "       [0.45017794, 0.51001541, 0.67821782]])"
      ]
     },
     "execution_count": 62,
     "metadata": {},
     "output_type": "execute_result"
    }
   ],
   "source": [
    "n1 = preprocessing.MinMaxScaler()\n",
    "\n",
    "n1=n1.fit(dfX_train.to_numpy())\n",
    "\n",
    "X_train = n1.transform(dfX_train.to_numpy())\n",
    "X_train"
   ]
  },
  {
   "cell_type": "code",
   "execution_count": 63,
   "id": "8736a4ce",
   "metadata": {},
   "outputs": [
    {
     "data": {
      "text/plain": [
       "(76, 3)"
      ]
     },
     "execution_count": 63,
     "metadata": {},
     "output_type": "execute_result"
    }
   ],
   "source": [
    "X_train.shape"
   ]
  },
  {
   "cell_type": "code",
   "execution_count": 64,
   "id": "ff27871a",
   "metadata": {},
   "outputs": [
    {
     "data": {
      "text/plain": [
       "KNeighborsClassifier(n_neighbors=2)"
      ]
     },
     "execution_count": 64,
     "metadata": {},
     "output_type": "execute_result"
    }
   ],
   "source": [
    "from sklearn.neighbors import KNeighborsClassifier\n",
    "knn = KNeighborsClassifier(n_neighbors = 2)\n",
    "knn  = knn.fit(X_train,y_train)\n",
    "knn"
   ]
  },
  {
   "cell_type": "code",
   "execution_count": 65,
   "id": "3f4afe14",
   "metadata": {},
   "outputs": [
    {
     "data": {
      "text/plain": [
       "(16    Vancouver\n",
       " 33    Vancouver\n",
       " 20    Vancouver\n",
       " 51      Toronto\n",
       " 24    Vancouver\n",
       " 47    Vancouver\n",
       " 43    Vancouver\n",
       " 18    Vancouver\n",
       " 41    Vancouver\n",
       " 17    Vancouver\n",
       " 72      Toronto\n",
       " 19    Vancouver\n",
       " 15    Vancouver\n",
       " 65      Toronto\n",
       " 94      Toronto\n",
       " 62      Toronto\n",
       " 75      Toronto\n",
       " 6     Vancouver\n",
       " 8     Vancouver\n",
       " 89      Toronto\n",
       " 57      Toronto\n",
       " 74      Toronto\n",
       " 46    Vancouver\n",
       " 37    Vancouver\n",
       " 90      Toronto\n",
       " 2     Vancouver\n",
       " Name: City, dtype: object,\n",
       " array([1, 1, 1, 0, 1, 1, 1, 1, 1, 1, 0, 1, 1, 0, 0, 0, 0, 1, 1, 0, 0, 0,\n",
       "        1, 1, 0, 1]))"
      ]
     },
     "execution_count": 65,
     "metadata": {},
     "output_type": "execute_result"
    }
   ],
   "source": [
    "y_test = le.transform(sy_test.to_numpy())\n",
    "sy_test, y_test"
   ]
  },
  {
   "cell_type": "code",
   "execution_count": 66,
   "id": "f5240aaa",
   "metadata": {},
   "outputs": [
    {
     "data": {
      "text/plain": [
       "(    Average Household Heating  Fuel Price(in cents per litre)  \\\n",
       " 16                                              128.6           \n",
       " 33                                              136.6           \n",
       " 20                                              123.8           \n",
       " 51                                              138.4           \n",
       " 24                                              120.3           \n",
       " 47                                              118.3           \n",
       " 43                                              102.0           \n",
       " 18                                              120.3           \n",
       " 41                                              104.1           \n",
       " 17                                              118.7           \n",
       " 72                                              132.7           \n",
       " 19                                              118.2           \n",
       " 15                                              127.0           \n",
       " 65                                              125.7           \n",
       " 94                                              111.8           \n",
       " 62                                              117.4           \n",
       " 75                                              127.8           \n",
       " 6                                                95.5           \n",
       " 8                                                94.4           \n",
       " 89                                              117.0           \n",
       " 57                                              109.6           \n",
       " 74                                              133.3           \n",
       " 46                                              119.9           \n",
       " 37                                              109.3           \n",
       " 90                                              116.1           \n",
       " 2                                               102.6           \n",
       " \n",
       "     Average Diesel Price(in cents per litre)  \\\n",
       " 16                                     142.7   \n",
       " 33                                     145.6   \n",
       " 20                                     135.3   \n",
       " 51                                     124.9   \n",
       " 24                                     133.5   \n",
       " 47                                     129.0   \n",
       " 43                                     118.9   \n",
       " 18                                     135.2   \n",
       " 41                                     117.9   \n",
       " 17                                     136.2   \n",
       " 72                                     120.3   \n",
       " 19                                     133.4   \n",
       " 15                                     139.0   \n",
       " 65                                     116.0   \n",
       " 94                                     101.9   \n",
       " 62                                     104.4   \n",
       " 75                                     123.2   \n",
       " 6                                      110.6   \n",
       " 8                                      108.3   \n",
       " 89                                     107.0   \n",
       " 57                                      97.9   \n",
       " 74                                     125.9   \n",
       " 46                                     129.6   \n",
       " 37                                     116.7   \n",
       " 90                                     106.9   \n",
       " 2                                      120.4   \n",
       " \n",
       "     Average Gasoline Price(in cents per litre)  \n",
       " 16                                       169.0  \n",
       " 33                                       155.2  \n",
       " 20                                       153.6  \n",
       " 51                                       114.6  \n",
       " 24                                       141.7  \n",
       " 47                                       137.2  \n",
       " 43                                       137.7  \n",
       " 18                                       151.5  \n",
       " 41                                       130.1  \n",
       " 17                                       148.4  \n",
       " 72                                       116.9  \n",
       " 19                                       148.2  \n",
       " 15                                       167.3  \n",
       " 65                                       115.8  \n",
       " 94                                       112.5  \n",
       " 62                                       103.6  \n",
       " 75                                       124.5  \n",
       " 6                                        131.4  \n",
       " 8                                        125.9  \n",
       " 89                                       107.6  \n",
       " 57                                       104.3  \n",
       " 74                                       116.4  \n",
       " 46                                       141.3  \n",
       " 37                                       125.6  \n",
       " 90                                       116.0  \n",
       " 2                                        121.4  ,\n",
       " array([[0.84341637, 0.91063174, 1.11262376],\n",
       "        [0.98576512, 0.95531587, 0.94183168],\n",
       "        [0.75800712, 0.79661017, 0.9220297 ],\n",
       "        [1.01779359, 0.63636364, 0.43935644],\n",
       "        [0.69572954, 0.76887519, 0.77475248],\n",
       "        [0.66014235, 0.69953775, 0.71905941],\n",
       "        [0.37010676, 0.54391371, 0.72524752],\n",
       "        [0.69572954, 0.79506934, 0.8960396 ],\n",
       "        [0.40747331, 0.52850539, 0.63118812],\n",
       "        [0.66725979, 0.81047766, 0.85767327],\n",
       "        [0.91637011, 0.56548536, 0.46782178],\n",
       "        [0.65836299, 0.76733436, 0.85519802],\n",
       "        [0.81494662, 0.85362096, 1.09158416],\n",
       "        [0.79181495, 0.49922958, 0.45420792],\n",
       "        [0.54448399, 0.28197227, 0.41336634],\n",
       "        [0.64412811, 0.32049307, 0.30321782],\n",
       "        [0.82918149, 0.61016949, 0.56188119],\n",
       "        [0.2544484 , 0.41602465, 0.64727723],\n",
       "        [0.23487544, 0.38058552, 0.57920792],\n",
       "        [0.63701068, 0.3605547 , 0.35272277],\n",
       "        [0.50533808, 0.22033898, 0.31188119],\n",
       "        [0.92704626, 0.65177196, 0.46163366],\n",
       "        [0.6886121 , 0.70878274, 0.76980198],\n",
       "        [0.5       , 0.51001541, 0.57549505],\n",
       "        [0.62099644, 0.35901387, 0.45668317],\n",
       "        [0.38078292, 0.56702619, 0.52351485]]))"
      ]
     },
     "execution_count": 66,
     "metadata": {},
     "output_type": "execute_result"
    }
   ],
   "source": [
    "X_test = n1.transform(dfX_test.to_numpy())\n",
    "dfX_test, X_test"
   ]
  },
  {
   "cell_type": "code",
   "execution_count": 67,
   "id": "fcd2952d",
   "metadata": {},
   "outputs": [
    {
     "data": {
      "text/plain": [
       "array([1, 1, 1, 0, 1, 1, 1, 1, 1, 1, 0, 1, 1, 0, 0, 0, 0, 1, 1, 0, 0, 0,\n",
       "       1, 1, 0, 1])"
      ]
     },
     "execution_count": 67,
     "metadata": {},
     "output_type": "execute_result"
    }
   ],
   "source": [
    "knn.predict(X_test)"
   ]
  },
  {
   "cell_type": "code",
   "execution_count": 68,
   "id": "5f9ee5d5",
   "metadata": {},
   "outputs": [
    {
     "data": {
      "text/plain": [
       "array([1, 1, 1, 0, 1, 1, 1, 1, 1, 1, 0, 1, 1, 0, 0, 0, 0, 1, 1, 0, 0, 0,\n",
       "       1, 1, 0, 1])"
      ]
     },
     "execution_count": 68,
     "metadata": {},
     "output_type": "execute_result"
    }
   ],
   "source": [
    "y_test"
   ]
  },
  {
   "cell_type": "code",
   "execution_count": 69,
   "id": "61ab7c29",
   "metadata": {},
   "outputs": [
    {
     "data": {
      "text/plain": [
       "1.0"
      ]
     },
     "execution_count": 69,
     "metadata": {},
     "output_type": "execute_result"
    }
   ],
   "source": [
    "knn.score(X_test,y_test)"
   ]
  },
  {
   "cell_type": "code",
   "execution_count": 70,
   "id": "970e9512",
   "metadata": {},
   "outputs": [
    {
     "data": {
      "text/plain": [
       "0.9868421052631579"
      ]
     },
     "execution_count": 70,
     "metadata": {},
     "output_type": "execute_result"
    }
   ],
   "source": [
    "knn.score(X_train,y_train)"
   ]
  },
  {
   "cell_type": "code",
   "execution_count": 71,
   "id": "9fb99edb",
   "metadata": {},
   "outputs": [
    {
     "data": {
      "image/png": "[encoded data removed]",
      "text/plain": [
       "<Figure size 432x288 with 1 Axes>"
      ]
     },
     "metadata": {
      "needs_background": "light"
     },
     "output_type": "display_data"
    }
   ],
   "source": [
    "import matplotlib.pyplot as plt\n",
    "import numpy as np \n",
    "m, n = X_train.shape\n",
    "m, n\n",
    "k_array = np.linspace(1, m, m)\n",
    "scores_train = np.array([]) \n",
    "scores_test = np.array([])\n",
    "for k in k_array: \n",
    "    knn = KNeighborsClassifier(n_neighbors = int(k)) \n",
    "    knn = knn.fit(X_train, y_train)                 \n",
    "    k_score_train = knn.score(X_train, y_train)\n",
    "    k_score_test = knn.score(X_test, y_test)\n",
    "    scores_train = np.append(scores_train, k_score_train)\n",
    "    scores_test = np.append(scores_test, k_score_test)\n",
    "plt.plot(k_array, scores_train)\n",
    "plt.plot(k_array, scores_test)\n",
    "plt.title(\"Variation of model accuracy with k (MinMaxScaler())\")\n",
    "plt.xlabel(\"k\")\n",
    "plt.ylabel(\"Model accuracy rated between 0 and 1\")\n",
    "plt.legend([\"Training dataset\", \"Test dataset\"])\n",
    "plt.show()"
   ]
  },
  {
   "cell_type": "code",
   "execution_count": 72,
   "id": "6c12c494",
   "metadata": {},
   "outputs": [
    {
     "data": {
      "image/png": "[encoded data removed]",
      "text/plain": [
       "<Figure size 432x288 with 1 Axes>"
      ]
     },
     "metadata": {
      "needs_background": "light"
     },
     "output_type": "display_data"
    }
   ],
   "source": [
    "stand = preprocessing.StandardScaler()\n",
    "standfitted = stand.fit(dfX_train.to_numpy())\n",
    "X_test_2 = standfitted.transform(dfX_test.to_numpy())\n",
    "X_train_2 = standfitted.transform(dfX_train.to_numpy())\n",
    "scores2_train = np.array([]) \n",
    "scores2_test = np.array([])\n",
    "for k in k_array:\n",
    "    knn = KNeighborsClassifier(n_neighbors = int(k))\n",
    "    knn = knn.fit(X_train_2, y_train)\n",
    "    k_score2_train = knn.score(X_train_2, y_train)\n",
    "    scores2_train = np.append(scores2_train, k_score2_train)\n",
    "    k_score2_test = knn.score(X_test_2, y_test)\n",
    "    scores2_test = np.append(scores2_test, k_score2_test)\n",
    "plt.plot(k_array, scores2_train)\n",
    "plt.plot(k_array, scores2_test)\n",
    "plt.title(\"Variation of model accuracy with k (StandardScaler())\")\n",
    "plt.xlabel(\"k\")\n",
    "plt.ylabel(\"Model accuracy rated between 0 and 1\")\n",
    "plt.legend([\"Training dataset\", \"Test dataset\"])\n",
    "plt.show()"
   ]
  },
  {
   "cell_type": "code",
   "execution_count": 73,
   "id": "da910edf",
   "metadata": {},
   "outputs": [
    {
     "data": {
      "text/plain": [
       "(0.9868421052631579, 1.0)"
      ]
     },
     "execution_count": 73,
     "metadata": {},
     "output_type": "execute_result"
    }
   ],
   "source": [
    "KNN = KNeighborsClassifier(n_neighbors = 2)\n",
    "KNN = KNN.fit(X_train, y_train) \n",
    "KNN.score(X_train, y_train), KNN.score(X_test, y_test)"
   ]
  },
  {
   "cell_type": "code",
   "execution_count": 74,
   "id": "027e08d5",
   "metadata": {},
   "outputs": [
    {
     "name": "stdout",
     "output_type": "stream",
     "text": [
      "[[10  0]\n",
      " [ 0 16]]\n"
     ]
    },
    {
     "data": {
      "text/plain": [
       "<sklearn.metrics._plot.confusion_matrix.ConfusionMatrixDisplay at 0x1af85a51700>"
      ]
     },
     "execution_count": 74,
     "metadata": {},
     "output_type": "execute_result"
    },
    {
     "data": {
      "image/png": "[encoded data removed]",
      "text/plain": [
       "<Figure size 432x288 with 2 Axes>"
      ]
     },
     "metadata": {
      "needs_background": "light"
     },
     "output_type": "display_data"
    }
   ],
   "source": [
    "from sklearn.datasets import make_classification\n",
    "from sklearn.metrics import confusion_matrix, ConfusionMatrixDisplay\n",
    "lefitted = le.fit(sy_train)\n",
    "lefitted.classes_\n",
    "y_train = lefitted.transform(sy_train)\n",
    "y_test = lefitted.transform(sy_test.to_numpy())\n",
    "predictions = KNN.predict(X_test)\n",
    "cm = confusion_matrix(y_test, predictions)\n",
    "print(cm)\n",
    "ConfusionMatrixDisplay(confusion_matrix = cm, display_labels = lefitted.classes_).plot()"
   ]
  },
  {
   "cell_type": "code",
   "execution_count": 75,
   "id": "230000d9",
   "metadata": {},
   "outputs": [
    {
     "data": {
      "text/plain": [
       "array([1, 1, 1, 0, 1, 1, 1, 1, 1, 1, 0, 1, 1, 0, 0, 0, 0, 1, 1, 0, 0, 0,\n",
       "       1, 1, 0, 1])"
      ]
     },
     "execution_count": 75,
     "metadata": {},
     "output_type": "execute_result"
    }
   ],
   "source": [
    "y_test"
   ]
  },
  {
   "cell_type": "code",
   "execution_count": 76,
   "id": "d60327d9",
   "metadata": {},
   "outputs": [
    {
     "data": {
      "text/plain": [
       "array([1, 1, 1, 0, 1, 1, 1, 1, 1, 1, 0, 1, 1, 0, 0, 0, 0, 1, 1, 0, 0, 0,\n",
       "       1, 1, 0, 1])"
      ]
     },
     "execution_count": 76,
     "metadata": {},
     "output_type": "execute_result"
    }
   ],
   "source": [
    "predictions"
   ]
  },
  {
   "cell_type": "code",
   "execution_count": null,
   "id": "a0f3a045",
   "metadata": {},
   "outputs": [],
   "source": []
  }
 ],
 "metadata": {
  "kernelspec": {
   "display_name": "Python 3",
   "language": "python",
   "name": "python3"
  },
  "language_info": {
   "codemirror_mode": {
    "name": "ipython",
    "version": 3
   },
   "file_extension": ".py",
   "mimetype": "text/x-python",
   "name": "python",
   "nbconvert_exporter": "python",
   "pygments_lexer": "ipython3",
   "version": "3.8.8"
  }
 },
 "nbformat": 4,
 "nbformat_minor": 5
}
